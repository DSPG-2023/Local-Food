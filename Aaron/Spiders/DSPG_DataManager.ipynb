{
 "cells": [
  {
   "cell_type": "code",
   "execution_count": 1,
   "metadata": {},
   "outputs": [],
   "source": [
    "import glob\n",
    "import pandas as pd\n",
    "import re\n",
    "from datetime import datetime\n",
    "from DSPG_Products import Products\n",
    "\n",
    "#CSV Dataframes\n",
    "CSVDataframes = {}\n",
    "\n",
    "#Saving the files\n",
    "for file in glob.glob('*.csv'):\n",
    "    if \"master\" in file.title().lower(): #Failsafe in case we run it twice and theres already a master CVS\n",
    "        continue\n",
    "    df = pd.read_csv(file)\n",
    "    name = ' '.join(file.title().split()[1:]).split('.')[0]\n",
    "    CSVDataframes[name] = (df)\n",
    "\n",
    "#Getting what we need from the Products class\n",
    "product = Products()\n",
    "MasterDataFrame = product.ProductDataFrames\n",
    "for df in MasterDataFrame:\n",
    "    df.assign(store=None, inplace=True)\n",
    "\n",
    "# regular expression pattern to match any of the words to remove and capture the word\n",
    "pattern = re.compile(r'\\b(({})\\b)'.format('|'.join(map(lambda x: re.escape(x[1]), product.ProductList))), re.IGNORECASE)\n",
    "\n",
    "#Adding store column to each data frame\n",
    "for name, data in CSVDataframes.items():\n",
    "    #Fills in the store\n",
    "    data['Store'] = pattern.sub(\"\", name)\n",
    "    #Finds the type of product and adds the dataframe to the corresponding master data frame\n",
    "    productName = [m[0] for m in pattern.findall(name)]\n",
    "    index = next((index for index, word in product.ProductList if word in productName[0]), None)\n",
    "    MasterDataFrame[index] = pd.concat([MasterDataFrame[index], data]).drop_duplicates()\n",
    "\n",
    "#Saving the master data frames\n",
    "currentDate = str(datetime(datetime.today().year, datetime.today().month, datetime.today().day))[:-8]\n",
    "for index, frame in enumerate(MasterDataFrame):\n",
    "    frame.to_csv(\"Master \" + currentDate + product.ProductList[index][1]+ \".csv\", index=False)\n"
   ]
  }
 ],
 "metadata": {
  "kernelspec": {
   "display_name": "DSPG",
   "language": "python",
   "name": "python3"
  },
  "language_info": {
   "codemirror_mode": {
    "name": "ipython",
    "version": 3
   },
   "file_extension": ".py",
   "mimetype": "text/x-python",
   "name": "python",
   "nbconvert_exporter": "python",
   "pygments_lexer": "ipython3",
   "version": "3.10.9"
  },
  "orig_nbformat": 4
 },
 "nbformat": 4,
 "nbformat_minor": 2
}
